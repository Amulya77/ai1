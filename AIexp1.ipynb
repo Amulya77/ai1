{
 "cells": [
  {
   "cell_type": "code",
   "execution_count": 1,
   "id": "1f428d95",
   "metadata": {},
   "outputs": [
    {
     "name": "stdout",
     "output_type": "stream",
     "text": [
      "Following is Breadth First Traversal (starting from vertex 2)\n",
      "2 0 3 1 "
     ]
    }
   ],
   "source": [
    "# Python3 Program to print BFS traversal\n",
    "# from a given source vertex. BFS(int s)\n",
    "# traverses vertices reachable from s.\n",
    "from collections import defaultdict\n",
    "\n",
    "# This class represents a directed graph\n",
    "# using adjacency list representation\n",
    "class Graph:\n",
    "\n",
    "\t# Constructor\n",
    "\tdef __init__(self):\n",
    "\n",
    "\t\t# default dictionary to store graph\n",
    "\t\tself.graph = defaultdict(list)\n",
    "\n",
    "\t# function to add an edge to graph\n",
    "\tdef addEdge(self,u,v):\n",
    "\t\tself.graph[u].append(v)\n",
    "\n",
    "\t# Function to print a BFS of graph\n",
    "\tdef BFS(self, s):\n",
    "\n",
    "\t\t# Mark all the vertices as not visited\n",
    "\t\tvisited = [False] * (len(self.graph))\n",
    "\n",
    "\t\t# Create a queue for BFS\n",
    "\t\tqueue = []\n",
    "\n",
    "\t\t# Mark the source node as\n",
    "\t\t# visited and enqueue it\n",
    "\t\tqueue.append(s)\n",
    "\t\tvisited[s] = True\n",
    "\n",
    "\t\twhile queue:\n",
    "\n",
    "\t\t\t# Dequeue a vertex from\n",
    "\t\t\t# queue and print it\n",
    "\t\t\ts = queue.pop(0)\n",
    "\t\t\tprint (s, end = \" \")\n",
    "\n",
    "\t\t\t# Get all adjacent vertices of the\n",
    "\t\t\t# dequeued vertex s. If a adjacent\n",
    "\t\t\t# has not been visited, then mark it\n",
    "\t\t\t# visited and enqueue it\n",
    "\t\t\tfor i in self.graph[s]:\n",
    "\t\t\t\tif visited[i] == False:\n",
    "\t\t\t\t\tqueue.append(i)\n",
    "\t\t\t\t\tvisited[i] = True\n",
    "\n",
    "# Driver code\n",
    "\n",
    "# Create a graph given in\n",
    "# the above diagram\n",
    "g = Graph()\n",
    "g.addEdge(0, 1)\n",
    "g.addEdge(0, 2)\n",
    "g.addEdge(1, 2)\n",
    "g.addEdge(2, 0)\n",
    "g.addEdge(2, 3)\n",
    "g.addEdge(3, 3)\n",
    "\n",
    "print (\"Following is Breadth First Traversal\"\n",
    "\t\t\t\t\" (starting from vertex 2)\")\n",
    "g.BFS(2)\n",
    "\n",
    "# This code is contributed by Neelam Yadav\n"
   ]
  },
  {
   "cell_type": "code",
   "execution_count": 3,
   "id": "48d6f3a3",
   "metadata": {},
   "outputs": [],
   "source": [
    "# Time Complexity : O(V+E) where V is the number of vertices in graph and E is the number of edges\n",
    "# Auxiliary Space: O(V)"
   ]
  },
  {
   "cell_type": "code",
   "execution_count": null,
   "id": "32450505",
   "metadata": {},
   "outputs": [],
   "source": []
  },
  {
   "cell_type": "code",
   "execution_count": 4,
   "id": "87643036",
   "metadata": {},
   "outputs": [
    {
     "name": "stdout",
     "output_type": "stream",
     "text": [
      "Goal node 'F' found!\n"
     ]
    }
   ],
   "source": [
    "from collections import deque\n",
    "\n",
    "# Define the search function\n",
    "def bfs(start_node, goal_node, graph):\n",
    "    # Initialize visited set and queue\n",
    "    visited = set()\n",
    "    queue = deque([start_node])\n",
    "\n",
    "    # Iterate through the queue\n",
    "    while queue:\n",
    "        # Pop the first node from the queue\n",
    "        current_node = queue.popleft()\n",
    "        \n",
    "        # Check if we've found the goal node\n",
    "        if current_node == goal_node:\n",
    "            return True\n",
    "        \n",
    "        # Add current node to visited set\n",
    "        visited.add(current_node)\n",
    "        \n",
    "        # Add neighboring nodes to the queue if they haven't been visited\n",
    "        for neighbor in graph[current_node]:\n",
    "            if neighbor not in visited:\n",
    "                queue.append(neighbor)\n",
    "    \n",
    "    # If we've exhausted all possible nodes and haven't found the goal, return False\n",
    "    return False\n",
    "\n",
    "# Example usage\n",
    "graph = {\n",
    "    'A': ['B', 'C'],\n",
    "    'B': ['D', 'E'],\n",
    "    'C': ['F'],\n",
    "    'D': [],\n",
    "    'E': ['F'],\n",
    "    'F': []\n",
    "}\n",
    "\n",
    "start_node = 'A'\n",
    "goal_node = 'F'\n",
    "\n",
    "if bfs(start_node, goal_node, graph):\n",
    "    print(f\"Goal node '{goal_node}' found!\")\n",
    "else:\n",
    "    print(f\"Goal node '{goal_node}' not found.\")\n"
   ]
  },
  {
   "cell_type": "code",
   "execution_count": 5,
   "id": "22c697c8",
   "metadata": {},
   "outputs": [],
   "source": [
    "# In this implementation, we use a deque (double-ended queue) to represent the queue of nodes to be visited. \n",
    "# We also use a set to keep track of visited nodes, which helps us avoid revisiting nodes and getting stuck in an infinite loop.\n",
    "\n",
    "# In the example usage, we define a simple graph with six nodes and call the bfs function to search for a path \n",
    "# from the start node 'A' to the goal node 'F'. If the goal node is found, we print a success message; \n",
    "# otherwise, we print a failure message."
   ]
  },
  {
   "cell_type": "code",
   "execution_count": null,
   "id": "2ddf41e4",
   "metadata": {},
   "outputs": [],
   "source": [
    "# Pick any node, visit the adjacent unvisited vertex, mark it as visited, display it, and insert it in a queue.\n",
    "# If there are no remaining adjacent vertices left, remove the first vertex from the queue.\n",
    "# Repeat step 1 and step 2 until the queue is empty or the desired node is found."
   ]
  }
 ],
 "metadata": {
  "kernelspec": {
   "display_name": "Python 3",
   "language": "python",
   "name": "python3"
  },
  "language_info": {
   "codemirror_mode": {
    "name": "ipython",
    "version": 3
   },
   "file_extension": ".py",
   "mimetype": "text/x-python",
   "name": "python",
   "nbconvert_exporter": "python",
   "pygments_lexer": "ipython3",
   "version": "3.8.8"
  }
 },
 "nbformat": 4,
 "nbformat_minor": 5
}
