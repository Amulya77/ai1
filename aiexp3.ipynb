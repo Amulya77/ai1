{
 "cells": [
  {
   "cell_type": "code",
   "execution_count": 1,
   "id": "253db3d6",
   "metadata": {},
   "outputs": [],
   "source": [
    "# // Pseudocode for Best First Search\n",
    "# Best-First-Search(Graph g, Node start)\n",
    "#     1) Create an empty PriorityQueue\n",
    "#        PriorityQueue pq;\n",
    "#     2) Insert \"start\" in pq.\n",
    "#        pq.insert(start)\n",
    "#     3) Until PriorityQueue is empty\n",
    "#           u = PriorityQueue.DeleteMin\n",
    "#           If u is the goal\n",
    "#              Exit\n",
    "#           Else\n",
    "#              Foreach neighbor v of u\n",
    "#                 If v \"Unvisited\"\n",
    "#                     Mark v \"Visited\"                    \n",
    "#                     pq.insert(v)\n",
    "#              Mark u \"Examined\"                    \n",
    "# End procedure"
   ]
  },
  {
   "cell_type": "code",
   "execution_count": 2,
   "id": "8cb8170f",
   "metadata": {},
   "outputs": [
    {
     "name": "stdout",
     "output_type": "stream",
     "text": [
      "0 1 3 2 8 9 \n"
     ]
    }
   ],
   "source": [
    "from queue import PriorityQueue\n",
    "v = 14\n",
    "graph = [[] for i in range(v)]\n",
    "\n",
    "# Function For Implementing Best First Search\n",
    "# Gives output path having lowest cost\n",
    "\n",
    "\n",
    "def best_first_search(actual_Src, target, n):\n",
    "\tvisited = [False] * n\n",
    "\tpq = PriorityQueue()\n",
    "\tpq.put((0, actual_Src))\n",
    "\tvisited[actual_Src] = True\n",
    "\t\n",
    "\twhile pq.empty() == False:\n",
    "\t\tu = pq.get()[1]\n",
    "\t\t# Displaying the path having lowest cost\n",
    "\t\tprint(u, end=\" \")\n",
    "\t\tif u == target:\n",
    "\t\t\tbreak\n",
    "\n",
    "\t\tfor v, c in graph[u]:\n",
    "\t\t\tif visited[v] == False:\n",
    "\t\t\t\tvisited[v] = True\n",
    "\t\t\t\tpq.put((c, v))\n",
    "\tprint()\n",
    "\n",
    "# Function for adding edges to graph\n",
    "\n",
    "\n",
    "def addedge(x, y, cost):\n",
    "\tgraph[x].append((y, cost))\n",
    "\tgraph[y].append((x, cost))\n",
    "\n",
    "\n",
    "# The nodes shown in above example(by alphabets) are\n",
    "# implemented using integers addedge(x,y,cost);\n",
    "addedge(0, 1, 3)\n",
    "addedge(0, 2, 6)\n",
    "addedge(0, 3, 5)\n",
    "addedge(1, 4, 9)\n",
    "addedge(1, 5, 8)\n",
    "addedge(2, 6, 12)\n",
    "addedge(2, 7, 14)\n",
    "addedge(3, 8, 7)\n",
    "addedge(8, 9, 5)\n",
    "addedge(8, 10, 6)\n",
    "addedge(9, 11, 1)\n",
    "addedge(9, 12, 10)\n",
    "addedge(9, 13, 2)\n",
    "\n",
    "source = 0\n",
    "target = 9\n",
    "best_first_search(source, target, v)\n",
    "\n",
    "# This code is contributed by Jyotheeswar Ganne\n"
   ]
  },
  {
   "cell_type": "code",
   "execution_count": 4,
   "id": "a5f5d531",
   "metadata": {},
   "outputs": [],
   "source": [
    "# Analysis : \n",
    "\n",
    "# The worst-case time complexity for Best First Search is O(n * log n) where n is the number of nodes. In the worst case, we may have to visit all nodes before we reach goal. Note that priority queue is implemented using Min(or Max) Heap, and insert and remove operations take O(log n) time.\n",
    "# The performance of the algorithm depends on how well the cost or evaluation function is designed.\n",
    "# Special cases of Best first search:\n",
    "\n",
    "# Greedy Best first search algorithm\n",
    "# A* search algorithm"
   ]
  },
  {
   "cell_type": "code",
   "execution_count": null,
   "id": "8d5277d3",
   "metadata": {},
   "outputs": [],
   "source": []
  }
 ],
 "metadata": {
  "kernelspec": {
   "display_name": "Python 3",
   "language": "python",
   "name": "python3"
  },
  "language_info": {
   "codemirror_mode": {
    "name": "ipython",
    "version": 3
   },
   "file_extension": ".py",
   "mimetype": "text/x-python",
   "name": "python",
   "nbconvert_exporter": "python",
   "pygments_lexer": "ipython3",
   "version": "3.8.8"
  }
 },
 "nbformat": 4,
 "nbformat_minor": 5
}
