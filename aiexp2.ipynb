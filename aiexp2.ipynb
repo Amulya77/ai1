{
 "cells": [
  {
   "cell_type": "code",
   "execution_count": 22,
   "id": "21612360",
   "metadata": {},
   "outputs": [
    {
     "name": "stdout",
     "output_type": "stream",
     "text": [
      "Following is Depth First Traversal\n",
      "0\n",
      "1\n",
      "2\n",
      "3\n"
     ]
    }
   ],
   "source": [
    "# Python program to print DFS traversal for complete graph\n",
    "from collections import defaultdict\n",
    "\n",
    "# This class represents a directed graph using adjacency\n",
    "# list representation\n",
    "class Graph:\n",
    "\n",
    "\t# Constructor\n",
    "\tdef __init__(self):\n",
    "\n",
    "\t\t# default dictionary to store graph\n",
    "\t\tself.graph = defaultdict(list)\n",
    "\n",
    "\t# function to add an edge to graph\n",
    "\tdef addEdge(self,u,v):\n",
    "\t\tself.graph[u].append(v)\n",
    "\n",
    "\t# A function used by DFS\n",
    "\tdef DFSUtil(self, v, visited):\n",
    "\n",
    "\t\t# Mark the current node as visited and print it\n",
    "\t\tvisited[v]= True\n",
    "\t\tprint (v)\n",
    "\n",
    "\t\t# Recur for all the vertices adjacent to\n",
    "\t\t# this vertex\n",
    "\t\tfor i in self.graph[v]:\n",
    "\t\t\tif visited[i] == False:\n",
    "\t\t\t\tself.DFSUtil(i, visited)\n",
    "\n",
    "\n",
    "\t# The function to do DFS traversal. It uses\n",
    "\t# recursive DFSUtil()\n",
    "\tdef DFS(self):\n",
    "\t\tV = len(self.graph) #total vertices\n",
    "\n",
    "\t\t# Mark all the vertices as not visited\n",
    "\t\tvisited =[False]*(V)\n",
    "\n",
    "\t\t# Call the recursive helper function to print\n",
    "\t\t# DFS traversal starting from all vertices one\n",
    "\t\t# by one\n",
    "\t\tfor i in range(V):\n",
    "\t\t\tif visited[i] == False:\n",
    "\t\t\t\tself.DFSUtil(i, visited)\n",
    "\n",
    "\n",
    "# Driver code\n",
    "# Create a graph given in the above diagram\n",
    "g = Graph()\n",
    "g.addEdge(0, 1)\n",
    "g.addEdge(0, 2)\n",
    "g.addEdge(1, 2)\n",
    "g.addEdge(2, 0)\n",
    "g.addEdge(2, 3)\n",
    "g.addEdge(3, 3)\n",
    "\n",
    "print (\"Following is Depth First Traversal\")\n",
    "g.DFS()\n",
    "\n",
    "# This code is contributed by Neelam Yadav\n",
    "#2 0 3 1"
   ]
  },
  {
   "cell_type": "code",
   "execution_count": null,
   "id": "37c438c5",
   "metadata": {},
   "outputs": [],
   "source": [
    "\n",
    "#ALGO\n",
    "# The step by step process to implement the DFS traversal is given as follows -\n",
    "\n",
    "# First, create a stack with the total number of vertices in the graph.\n",
    "# Now, choose any vertex as the starting point of traversal, and push that vertex into the stack.\n",
    "# After that, push a non-visited vertex (adjacent to the vertex on the top of the stack) to the top of the stack.\n",
    "# Now, repeat steps 3 and 4 until no vertices are left to visit from the vertex on the stack's top.\n",
    "# If no vertex is left, go back and pop a vertex from the stack.\n",
    "# Repeat steps 2, 3, and 4 until the stack is empty."
   ]
  },
  {
   "cell_type": "code",
   "execution_count": 6,
   "id": "98deafe2",
   "metadata": {},
   "outputs": [
    {
     "name": "stdout",
     "output_type": "stream",
     "text": [
      "Following is the Depth-First Search\n",
      "5\n",
      "3\n",
      "2\n",
      "4\n",
      "8\n",
      "7\n"
     ]
    }
   ],
   "source": [
    "# Using a Python dictionary to act as an adjacency list\n",
    "graph = {\n",
    "  '5' : ['3','7'],\n",
    "  '3' : ['2', '4'],\n",
    "  '7' : ['8'],\n",
    "  '2' : [],\n",
    "  '4' : ['8'],\n",
    "  '8' : []\n",
    "}\n",
    "\n",
    "visited = set() # Set to keep track of visited nodes of graph.\n",
    "\n",
    "def dfs(visited, graph, node):  #function for dfs \n",
    "    if node not in visited:\n",
    "        print (node)\n",
    "        visited.add(node)\n",
    "        for neighbour in graph[node]:\n",
    "            dfs(visited, graph, neighbour)\n",
    "\n",
    "# Driver Code\n",
    "print(\"Following is the Depth-First Search\")\n",
    "dfs(visited, graph, '5')"
   ]
  },
  {
   "cell_type": "code",
   "execution_count": 17,
   "id": "75e687bd",
   "metadata": {},
   "outputs": [
    {
     "name": "stdout",
     "output_type": "stream",
     "text": [
      "A C F E B D B "
     ]
    },
    {
     "data": {
      "text/plain": [
       "{'A', 'B', 'C', 'D', 'E', 'F'}"
      ]
     },
     "execution_count": 17,
     "metadata": {},
     "output_type": "execute_result"
    }
   ],
   "source": [
    "# define a function to implement DFS\n",
    "def dfs(graph, start, visited=None):\n",
    "    if visited is None:\n",
    "        visited = set()\n",
    "    visited.add(start)\n",
    "    print(start, end=' ')\n",
    "    for next in graph[start] - visited:\n",
    "        dfs(graph, next, visited)\n",
    "    return visited\n",
    "\n",
    "# define a sample graph as a dictionary of sets\n",
    "graph = {'A': set(['B', 'C']),\n",
    "         'B': set(['A', 'D', 'E']),\n",
    "         'C': set(['A', 'F']),\n",
    "         'D': set(['B']),\n",
    "         'E': set(['B', 'F']),\n",
    "         'F': set(['C', 'E'])}\n",
    "\n",
    "# perform DFS starting from vertex 'A'\n",
    "\n",
    "dfs(graph, 'A')\n"
   ]
  },
  {
   "cell_type": "code",
   "execution_count": 12,
   "id": "542b3756",
   "metadata": {},
   "outputs": [
    {
     "ename": "SyntaxError",
     "evalue": "invalid syntax (<ipython-input-12-951cce491055>, line 1)",
     "output_type": "error",
     "traceback": [
      "\u001b[1;36m  File \u001b[1;32m\"<ipython-input-12-951cce491055>\"\u001b[1;36m, line \u001b[1;32m1\u001b[0m\n\u001b[1;33m    In this program, the dfs function takes three arguments:\u001b[0m\n\u001b[1;37m       ^\u001b[0m\n\u001b[1;31mSyntaxError\u001b[0m\u001b[1;31m:\u001b[0m invalid syntax\n"
     ]
    }
   ],
   "source": [
    "# In this program, the dfs function takes three arguments:\n",
    "\n",
    "# graph: a dictionary that represents the graph as a set of vertices and their adjacent vertices\n",
    "# start: the starting vertex for the search\n",
    "# visited: a set of vertices that have already been visited (optional)\n",
    "# The dfs function uses recursion to visit each vertex in the graph, starting from the start vertex. \n",
    "# It keeps track of which vertices have already been visited using the visited set. \n",
    "# The function prints each vertex as it visits it, and returns the visited set at the end.\n",
    "\n",
    "# In the example program, we define a sample graph as a dictionary of sets, and then perform DFS starting from vertex 'A'. \n",
    "# The output of the program should be: A B D E F C\n"
   ]
  },
  {
   "cell_type": "code",
   "execution_count": 10,
   "id": "5b1999f5",
   "metadata": {},
   "outputs": [],
   "source": [
    "'''\n",
    "     +--- B -----+\n",
    "     |    |      |\n",
    "     |    D      E\n",
    "     |           |\n",
    "A ---+           +--- F\n",
    "     |           |\n",
    "     |    C      |\n",
    "     |    |      |\n",
    "     +---  -----+\n",
    "'''"
   ]
  },
  {
   "cell_type": "code",
   "execution_count": 18,
   "id": "ea05e677",
   "metadata": {},
   "outputs": [
    {
     "name": "stdout",
     "output_type": "stream",
     "text": [
      "0\n",
      "2\n",
      "1\n",
      "3\n",
      "4\n"
     ]
    },
    {
     "data": {
      "text/plain": [
       "{'0', '1', '2', '3', '4'}"
      ]
     },
     "execution_count": 18,
     "metadata": {},
     "output_type": "execute_result"
    }
   ],
   "source": [
    "\n",
    "\n",
    "\n",
    "\n",
    "# DFS algorithm in Python\n",
    "\n",
    "\n",
    "# DFS algorithm\n",
    "def dfs(graph, start, visited=None):\n",
    "    if visited is None:\n",
    "        visited = set()\n",
    "    visited.add(start)\n",
    "\n",
    "    print(start)\n",
    "\n",
    "    for next in graph[start] - visited:\n",
    "        dfs(graph, next, visited)\n",
    "    return visited\n",
    "\n",
    "\n",
    "graph = {'0': set(['1', '2']),\n",
    "         '1': set(['0', '3', '4']),\n",
    "         '2': set(['0']),\n",
    "         '3': set(['1']),\n",
    "         '4': set(['2', '3'])}\n",
    "\n",
    "dfs(graph, '0')"
   ]
  },
  {
   "cell_type": "code",
   "execution_count": 19,
   "id": "cc7797a3",
   "metadata": {},
   "outputs": [
    {
     "name": "stdout",
     "output_type": "stream",
     "text": [
      "0 2 1 3 4 "
     ]
    },
    {
     "data": {
      "text/plain": [
       "{'0', '1', '2', '3', '4'}"
      ]
     },
     "execution_count": 19,
     "metadata": {},
     "output_type": "execute_result"
    }
   ],
   "source": [
    "# define a function to implement DFS\n",
    "def dfs(graph, start, visited=None):\n",
    "    if visited is None:\n",
    "        visited = set()\n",
    "    visited.add(start)\n",
    "    print(start, end=' ')\n",
    "    for next in graph[start] - visited:\n",
    "        dfs(graph, next, visited)\n",
    "    return visited\n",
    "\n",
    "# define the graph as a dictionary of sets\n",
    "graph = {'0': set(['1', '2']),\n",
    "         '1': set(['0', '3', '4']),\n",
    "         '2': set(['0']),\n",
    "         '3': set(['1']),\n",
    "         '4': set(['2', '3'])}\n",
    "\n",
    "# perform DFS starting from vertex '0'\n",
    "dfs(graph, '0')\n"
   ]
  },
  {
   "cell_type": "code",
   "execution_count": 20,
   "id": "8a762f5d",
   "metadata": {},
   "outputs": [],
   "source": [
    "# In this program, the dfs function takes three arguments:\n",
    "\n",
    "# graph: a dictionary that represents the graph as a set of vertices and their adjacent vertices\n",
    "# start: the starting vertex for the search\n",
    "# visited: a set of vertices that have already been visited (optional)\n",
    "# The dfs function uses recursion to visit each vertex in the graph, starting from the start vertex.\n",
    "# It keeps track of which vertices have already been visited using the visited set. \n",
    "# The function prints each vertex as it visits it, and returns the visited set at the end.\n",
    "\n",
    "# In the example program, we define the given graph as a dictionary of sets, and then perform DFS starting from vertex '0'. \n",
    "# The output of the program should be:"
   ]
  },
  {
   "cell_type": "code",
   "execution_count": 21,
   "id": "fc28fde1",
   "metadata": {},
   "outputs": [],
   "source": [
    "# The step by step process to implement the DFS traversal is given as follows -\n",
    "\n",
    "# First, create a stack with the total number of vertices in the graph.\n",
    "# Now, choose any vertex as the starting point of traversal, and push that vertex into the stack.\n",
    "# After that, push a non-visited vertex (adjacent to the vertex on the top of the stack) to the top of the stack.\n",
    "# Now, repeat steps 3 and 4 until no vertices are left to visit from the vertex on the stack's top.\n",
    "# If no vertex is left, go back and pop a vertex from the stack.\n",
    "# Repeat steps 2, 3, and 4 until the stack is empty."
   ]
  },
  {
   "cell_type": "code",
   "execution_count": null,
   "id": "61738e71",
   "metadata": {},
   "outputs": [],
   "source": []
  }
 ],
 "metadata": {
  "kernelspec": {
   "display_name": "Python 3",
   "language": "python",
   "name": "python3"
  },
  "language_info": {
   "codemirror_mode": {
    "name": "ipython",
    "version": 3
   },
   "file_extension": ".py",
   "mimetype": "text/x-python",
   "name": "python",
   "nbconvert_exporter": "python",
   "pygments_lexer": "ipython3",
   "version": "3.8.8"
  }
 },
 "nbformat": 4,
 "nbformat_minor": 5
}
