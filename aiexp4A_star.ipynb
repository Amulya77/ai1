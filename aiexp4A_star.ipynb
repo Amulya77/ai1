{
 "cells": [
  {
   "cell_type": "code",
   "execution_count": 2,
   "id": "a809f7aa",
   "metadata": {},
   "outputs": [],
   "source": [
    "import heapq\n",
    "\n",
    "def astar_search(start, goal, neighbors_fn, heuristic_fn):\n",
    "    \"\"\"A* search algorithm to find the shortest path between two points on a grid.\"\"\"\n",
    "    \n",
    "    # Initialize the open and closed sets\n",
    "    open_set = [(0, start)]\n",
    "    closed_set = set()\n",
    "    \n",
    "    # Initialize the cost and parent dictionaries\n",
    "    cost = {start: 0}\n",
    "    parent = {start: None}\n",
    "    \n",
    "    while open_set:\n",
    "        # Get the node with the lowest f-score from the open set\n",
    "        f_score, current = heapq.heappop(open_set)\n",
    "        \n",
    "        # If the current node is the goal, return the path\n",
    "        if current == goal:\n",
    "            path = []\n",
    "            while current:\n",
    "                path.append(current)\n",
    "                current = parent[current]\n",
    "            path.reverse()\n",
    "            return path\n",
    "        \n",
    "        # Add the current node to the closed set\n",
    "        closed_set.add(current)\n",
    "        \n",
    "        # Check the neighbors of the current node\n",
    "        for neighbor in neighbors_fn(current):\n",
    "            # Check if the neighbor is in the closed set\n",
    "            if neighbor in closed_set:\n",
    "                continue\n",
    "            \n",
    "            # Calculate the tentative cost to the neighbor\n",
    "            tentative_cost = cost[current] + 1\n",
    "            \n",
    "            # Check if the neighbor is not in the open set or the new cost is lower\n",
    "            if neighbor not in cost or tentative_cost < cost[neighbor]:\n",
    "                # Update the cost and parent dictionaries and add the neighbor to the open set\n",
    "                cost[neighbor] = tentative_cost\n",
    "                parent[neighbor] = current\n",
    "                f_score = tentative_cost + heuristic_fn(neighbor, goal)\n",
    "                heapq.heappush(open_set, (f_score, neighbor))\n",
    "    \n",
    "    # If no path is found, return None\n",
    "    return None\n"
   ]
  },
  {
   "cell_type": "code",
   "execution_count": 3,
   "id": "990bfecd",
   "metadata": {},
   "outputs": [
    {
     "name": "stdout",
     "output_type": "stream",
     "text": [
      "[(0, 0), (0, 1), (0, 2), (0, 3), (0, 4), (1, 4), (2, 4), (3, 4), (4, 4)]\n"
     ]
    }
   ],
   "source": [
    "# Define the start and goal nodes\n",
    "start = (0, 0)\n",
    "goal = (4, 4)\n",
    "\n",
    "# Define the neighbors function\n",
    "def neighbors(node):\n",
    "    x, y = node\n",
    "    return [(x+1, y), (x-1, y), (x, y+1), (x, y-1)]\n",
    "\n",
    "# Define the heuristic function\n",
    "def heuristic(node, goal):\n",
    "    x1, y1 = node\n",
    "    x2, y2 = goal\n",
    "    return abs(x1 - x2) + abs(y1 - y2)\n",
    "\n",
    "# Call the A* search algorithm\n",
    "path = astar_search(start, goal, neighbors, heuristic)\n",
    "\n",
    "# Print the shortest path\n",
    "print(path)\n"
   ]
  },
  {
   "cell_type": "code",
   "execution_count": null,
   "id": "3c0ef13a",
   "metadata": {},
   "outputs": [],
   "source": [
    "#explain\n",
    "\n",
    "\n",
    "# Here, start and goal are the start and end points of the search, \n",
    "# neighbors_fn is a function that takes a node and returns a list of its neighboring nodes, and\n",
    "# heuristic_fn is a function that takes a node and the goal node and returns an estimate of the cost\n",
    "# to reach the goal from that node.\n",
    "\n",
    "# In this implementation, we use the Manhattan distance as the heuristic function.\n",
    "\n",
    "# The algorithm uses a priority queue to keep track of the nodes with the lowest f-score \n",
    "# (which is the sum of the cost to the current node and the heuristic estimate of the remaining cost to the goal).\n",
    "# The algorithm also keeps track of the cost to reach each node and the parent of each node, \n",
    "# which allows it to reconstruct the shortest path once the goal is reached."
   ]
  },
  {
   "cell_type": "code",
   "execution_count": 5,
   "id": "1d904a99",
   "metadata": {},
   "outputs": [],
   "source": [
    "# Sure! Here's a step-by-step algorithm for the A* search algorithm:\n",
    "\n",
    "# Initialize the open set to contain the start node and the closed set to be empty.\n",
    "# Calculate the f-score (the sum of the g-score, the cost to reach the current node, and the h-score, \n",
    "    #       the estimated cost to reach the goal from the current node) for the start node and add it to the open set.\n",
    "# While the open set is not empty:\n",
    "# Remove the node with the lowest f-score from the open set and add it to the closed set.\n",
    "# If the current node is the goal, reconstruct the path by following the parent pointers from the goal\n",
    "     #      node back to the start node and return it.\n",
    "# Generate the set of neighboring nodes (excluding those in the closed set or obstructed by obstacles).\n",
    "# For each neighboring node:\n",
    "# Calculate the tentative g-score (the cost to reach the neighbor from the current node).\n",
    "# If the neighbor is not in the open set, add it to the open set and calculate its f-score.\n",
    "# If the neighbor is in the open set and the tentative g-score is greater than or equal to its current g-score, skip it.\n",
    "# Otherwise, update the neighbor's g-score, f-score, and parent pointer.\n",
    "# If the open set is empty and the goal node has not been reached, return failure.\n",
    "# That's it! The A* search algorithm combines the best of both worlds from Dijkstra's algorithm and greedy best-first\n",
    "#        search by considering both the cost to reach the current node and the estimated cost to reach the goal."
   ]
  },
  {
   "cell_type": "code",
   "execution_count": null,
   "id": "12bc8dd0",
   "metadata": {},
   "outputs": [],
   "source": []
  },
  {
   "cell_type": "code",
   "execution_count": null,
   "id": "ee02ee79",
   "metadata": {},
   "outputs": [],
   "source": []
  }
 ],
 "metadata": {
  "kernelspec": {
   "display_name": "Python 3",
   "language": "python",
   "name": "python3"
  },
  "language_info": {
   "codemirror_mode": {
    "name": "ipython",
    "version": 3
   },
   "file_extension": ".py",
   "mimetype": "text/x-python",
   "name": "python",
   "nbconvert_exporter": "python",
   "pygments_lexer": "ipython3",
   "version": "3.8.8"
  }
 },
 "nbformat": 4,
 "nbformat_minor": 5
}
